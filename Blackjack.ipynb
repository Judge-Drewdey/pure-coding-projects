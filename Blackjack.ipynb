{
 "cells": [
  {
   "cell_type": "code",
   "id": "initial_id",
   "metadata": {
    "collapsed": true,
    "ExecuteTime": {
     "end_time": "2025-04-09T18:02:45.860866Z",
     "start_time": "2025-04-09T18:02:45.844853Z"
    }
   },
   "source": "import random",
   "outputs": [],
   "execution_count": 23
  },
  {
   "metadata": {
    "ExecuteTime": {
     "end_time": "2025-04-09T18:02:46.109469Z",
     "start_time": "2025-04-09T18:02:46.093779Z"
    }
   },
   "cell_type": "code",
   "source": "deck = {'A of Spades':[1,11], 'A of Clubs':[1,11], 'A of Diamonds':[1,11], 'A of Hearts':[1,11],'2 of Spades':2, '2 of Clubs':2, '2 of Diamonds':2, '2 of Hearts':2,'3 of Spades':3, '3 of Clubs':3, '3 of Diamonds':3, '3 of Hearts':3, '4 of Spades':4, '4 of Clubs':4, '4 of Diamonds':4, '4 of Hearts':4, '5 of Spades':5, '5 of Clubs':5, '5 of Diamonds':5, '5 of Hearts':5,'6 of Spades':6, '6 of Clubs':6, '6 of Diamonds':6, '6 of Hearts':6, '7 of Spades':7, '7 of Clubs':7, '7 of Diamonds':7, '7 of Hearts':7, '8 of Spades':8, '8 of Clubs':8, '8 of Diamonds':8, '8 of Hearts':8,'9 of Spades':9, '9 of Clubs':9, '9 of Diamonds':9, '9 of Hearts':9, '10 of Spades':10, '10 of Clubs':10, '10 of Diamonds':10, '10 of Hearts':10,  'J of Spades':10, 'J of Clubs':10, 'J of Diamonds':10, 'J of Hearts':10,'Q of Spades':10, 'Q of Clubs':10, 'Q of Diamonds':10, 'Q of Hearts':10, 'K of Spades':10, 'K of Clubs':10, 'K of Diamonds':10, 'K of Hearts':10}",
   "id": "5ac66a8d43fd48c8",
   "outputs": [],
   "execution_count": 24
  },
  {
   "metadata": {
    "ExecuteTime": {
     "end_time": "2025-04-09T18:19:52.514846Z",
     "start_time": "2025-04-09T18:19:52.498951Z"
    }
   },
   "cell_type": "code",
   "source": "len(deck)",
   "id": "f9ef5083aa23b2cc",
   "outputs": [
    {
     "data": {
      "text/plain": [
       "52"
      ]
     },
     "execution_count": 44,
     "metadata": {},
     "output_type": "execute_result"
    }
   ],
   "execution_count": 44
  },
  {
   "metadata": {
    "ExecuteTime": {
     "end_time": "2025-04-09T19:12:28.303113Z",
     "start_time": "2025-04-09T19:12:28.287279Z"
    }
   },
   "cell_type": "code",
   "source": [
    "play = True\n",
    "while play == True:\n",
    "    new_deck = deck.copy()\n",
    "\n",
    "    #Deal two cards to dealer\n",
    "    dealer_hand = random.sample(list(deck.keys()),2)\n",
    "\n",
    "    #Remove those cards from the deck and display cards\n",
    "    for card in dealer_hand:\n",
    "        new_deck.pop(card)\n",
    "    print(\"The Dealer's face up card is: \", dealer_hand[0])\n",
    "\n",
    "    #Deal two cards to user\n",
    "    user_hand = random.sample(list(deck.keys()),2)\n",
    "\n",
    "    #Remove those cards from the deck and display cards\n",
    "    for card in user_hand:\n",
    "        new_deck.pop(card)\n",
    "    print('Your cards are: ', user_hand, '.')\n",
    "\n",
    "\n",
    "    break"
   ],
   "id": "c47c533547de710d",
   "outputs": [
    {
     "name": "stdout",
     "output_type": "stream",
     "text": [
      "The Dealer's face up card is:  6 of Spades\n",
      "Your cards are:  ['10 of Clubs', '3 of Diamonds'] .\n"
     ]
    }
   ],
   "execution_count": 100
  },
  {
   "metadata": {
    "ExecuteTime": {
     "end_time": "2025-04-09T19:09:56.494094Z",
     "start_time": "2025-04-09T19:09:56.480151Z"
    }
   },
   "cell_type": "code",
   "source": [
    "dealer_value = 0\n",
    "ace_value = 0\n",
    "for c in dealer_hand:\n",
    "    if c[0] != 'A':\n",
    "        dealer_value += deck[c]\n",
    "\n",
    "    elif (11 + dealer_value) < 21:\n",
    "        ace_value = 11\n",
    "        dealer_value += ace_value\n",
    "    else:\n",
    "        ace_value = 1\n",
    "        dealer_value += ace_value\n",
    "print(dealer_value)\n",
    "\n",
    "while dealer_value < 17:\n",
    "    hit_card = random.sample(list(deck.keys()),1)\n",
    "    if hit_card[0] != 'A':\n",
    "        dealer_value += deck[hit_card[0]]\n",
    "\n",
    "    elif (11 + dealer_value) < 21:\n",
    "        ace_value = 11\n",
    "        dealer_value += ace_value\n",
    "\n",
    "    else:\n",
    "        ace_value = 1\n",
    "        dealer_value += ace_value\n",
    "    print(dealer_value)"
   ],
   "id": "3cf5459f3583e216",
   "outputs": [
    {
     "name": "stdout",
     "output_type": "stream",
     "text": [
      "13\n",
      "22\n"
     ]
    }
   ],
   "execution_count": 96
  },
  {
   "metadata": {
    "ExecuteTime": {
     "end_time": "2025-04-09T19:18:28.690338Z",
     "start_time": "2025-04-09T19:18:23.409896Z"
    }
   },
   "cell_type": "code",
   "source": [
    "#Declare user value\n",
    "user_value = 0\n",
    "#Loop though hand and deal with Aces\n",
    "for c in user_hand:\n",
    "    if c[0] != 'A':\n",
    "        user_value += deck[c]\n",
    "    else:\n",
    "        ace_value = input('What would you like this Ace to be(1/11)?')\n",
    "        if ace_value == '1':\n",
    "            user_value += 1\n",
    "        elif ace_value == '11':\n",
    "            user_value += 11\n",
    "        else:\n",
    "            retry_message = 99\n",
    "            while retry_message != 1 and retry_message != 11:\n",
    "                retry_message = int(input('Invalid Value. Would you like to try again? Options are 1 and 11'))\n",
    "            user_value += retry_message\n",
    "\n",
    "print('Your current value is: ', user_value)\n",
    "hit = input('Would you like to hit? (y/n)')\n",
    "while hit == 'y' and user_value < 21:\n",
    "    hit_card = random.sample(list(deck.keys()),1)\n",
    "    if hit_card[0] != 'A':\n",
    "        user_value += deck[hit_card[0]]\n",
    "    else:\n",
    "        ace_value = input('What would you like this Ace to be(1/11)?')\n",
    "        if ace_value == '1':\n",
    "            user_value += 1\n",
    "        elif ace_value == '11':\n",
    "            user_value += 11\n",
    "        else:\n",
    "            retry_message = 99\n",
    "            while retry_message != 1 and retry_message != 11:\n",
    "                retry_message = int(input('Invalid Value. Would you like to try again? Options are 1 and 11'))\n",
    "            user_value += retry_message\n",
    "    print('Your current value is: ', user_value)\n",
    "    hit = input('Would you like to hit? (y/n)')\n",
    "\n"
   ],
   "id": "d6cb0a1cae62f3c0",
   "outputs": [
    {
     "name": "stdout",
     "output_type": "stream",
     "text": [
      "Your current value is:  13\n"
     ]
    },
    {
     "ename": "KeyboardInterrupt",
     "evalue": "Interrupted by user",
     "output_type": "error",
     "traceback": [
      "\u001B[1;31m---------------------------------------------------------------------------\u001B[0m",
      "\u001B[1;31mKeyboardInterrupt\u001B[0m                         Traceback (most recent call last)",
      "Cell \u001B[1;32mIn[102], line 20\u001B[0m\n\u001B[0;32m     17\u001B[0m             user_value \u001B[38;5;241m+\u001B[39m\u001B[38;5;241m=\u001B[39m retry_message\n\u001B[0;32m     19\u001B[0m \u001B[38;5;28mprint\u001B[39m(\u001B[38;5;124m'\u001B[39m\u001B[38;5;124mYour current value is: \u001B[39m\u001B[38;5;124m'\u001B[39m, user_value)\n\u001B[1;32m---> 20\u001B[0m hit \u001B[38;5;241m=\u001B[39m \u001B[38;5;28;43minput\u001B[39;49m\u001B[43m(\u001B[49m\u001B[38;5;124;43m'\u001B[39;49m\u001B[38;5;124;43mWould you like to hit? (y/n)\u001B[39;49m\u001B[38;5;124;43m'\u001B[39;49m\u001B[43m)\u001B[49m\n\u001B[0;32m     21\u001B[0m \u001B[38;5;28;01mwhile\u001B[39;00m hit \u001B[38;5;241m==\u001B[39m \u001B[38;5;124m'\u001B[39m\u001B[38;5;124my\u001B[39m\u001B[38;5;124m'\u001B[39m \u001B[38;5;129;01mand\u001B[39;00m user_value \u001B[38;5;241m<\u001B[39m \u001B[38;5;241m21\u001B[39m:\n\u001B[0;32m     22\u001B[0m     hit_card \u001B[38;5;241m=\u001B[39m random\u001B[38;5;241m.\u001B[39msample(\u001B[38;5;28mlist\u001B[39m(deck\u001B[38;5;241m.\u001B[39mkeys()),\u001B[38;5;241m1\u001B[39m)\n",
      "File \u001B[1;32m~\\AppData\\Local\\Programs\\Python\\Python310\\lib\\site-packages\\ipykernel\\kernelbase.py:1282\u001B[0m, in \u001B[0;36mKernel.raw_input\u001B[1;34m(self, prompt)\u001B[0m\n\u001B[0;32m   1280\u001B[0m     msg \u001B[38;5;241m=\u001B[39m \u001B[38;5;124m\"\u001B[39m\u001B[38;5;124mraw_input was called, but this frontend does not support input requests.\u001B[39m\u001B[38;5;124m\"\u001B[39m\n\u001B[0;32m   1281\u001B[0m     \u001B[38;5;28;01mraise\u001B[39;00m StdinNotImplementedError(msg)\n\u001B[1;32m-> 1282\u001B[0m \u001B[38;5;28;01mreturn\u001B[39;00m \u001B[38;5;28;43mself\u001B[39;49m\u001B[38;5;241;43m.\u001B[39;49m\u001B[43m_input_request\u001B[49m\u001B[43m(\u001B[49m\n\u001B[0;32m   1283\u001B[0m \u001B[43m    \u001B[49m\u001B[38;5;28;43mstr\u001B[39;49m\u001B[43m(\u001B[49m\u001B[43mprompt\u001B[49m\u001B[43m)\u001B[49m\u001B[43m,\u001B[49m\n\u001B[0;32m   1284\u001B[0m \u001B[43m    \u001B[49m\u001B[38;5;28;43mself\u001B[39;49m\u001B[38;5;241;43m.\u001B[39;49m\u001B[43m_parent_ident\u001B[49m\u001B[43m[\u001B[49m\u001B[38;5;124;43m\"\u001B[39;49m\u001B[38;5;124;43mshell\u001B[39;49m\u001B[38;5;124;43m\"\u001B[39;49m\u001B[43m]\u001B[49m\u001B[43m,\u001B[49m\n\u001B[0;32m   1285\u001B[0m \u001B[43m    \u001B[49m\u001B[38;5;28;43mself\u001B[39;49m\u001B[38;5;241;43m.\u001B[39;49m\u001B[43mget_parent\u001B[49m\u001B[43m(\u001B[49m\u001B[38;5;124;43m\"\u001B[39;49m\u001B[38;5;124;43mshell\u001B[39;49m\u001B[38;5;124;43m\"\u001B[39;49m\u001B[43m)\u001B[49m\u001B[43m,\u001B[49m\n\u001B[0;32m   1286\u001B[0m \u001B[43m    \u001B[49m\u001B[43mpassword\u001B[49m\u001B[38;5;241;43m=\u001B[39;49m\u001B[38;5;28;43;01mFalse\u001B[39;49;00m\u001B[43m,\u001B[49m\n\u001B[0;32m   1287\u001B[0m \u001B[43m\u001B[49m\u001B[43m)\u001B[49m\n",
      "File \u001B[1;32m~\\AppData\\Local\\Programs\\Python\\Python310\\lib\\site-packages\\ipykernel\\kernelbase.py:1325\u001B[0m, in \u001B[0;36mKernel._input_request\u001B[1;34m(self, prompt, ident, parent, password)\u001B[0m\n\u001B[0;32m   1322\u001B[0m \u001B[38;5;28;01mexcept\u001B[39;00m \u001B[38;5;167;01mKeyboardInterrupt\u001B[39;00m:\n\u001B[0;32m   1323\u001B[0m     \u001B[38;5;66;03m# re-raise KeyboardInterrupt, to truncate traceback\u001B[39;00m\n\u001B[0;32m   1324\u001B[0m     msg \u001B[38;5;241m=\u001B[39m \u001B[38;5;124m\"\u001B[39m\u001B[38;5;124mInterrupted by user\u001B[39m\u001B[38;5;124m\"\u001B[39m\n\u001B[1;32m-> 1325\u001B[0m     \u001B[38;5;28;01mraise\u001B[39;00m \u001B[38;5;167;01mKeyboardInterrupt\u001B[39;00m(msg) \u001B[38;5;28;01mfrom\u001B[39;00m\u001B[38;5;250m \u001B[39m\u001B[38;5;28;01mNone\u001B[39;00m\n\u001B[0;32m   1326\u001B[0m \u001B[38;5;28;01mexcept\u001B[39;00m \u001B[38;5;167;01mException\u001B[39;00m:\n\u001B[0;32m   1327\u001B[0m     \u001B[38;5;28mself\u001B[39m\u001B[38;5;241m.\u001B[39mlog\u001B[38;5;241m.\u001B[39mwarning(\u001B[38;5;124m\"\u001B[39m\u001B[38;5;124mInvalid Message:\u001B[39m\u001B[38;5;124m\"\u001B[39m, exc_info\u001B[38;5;241m=\u001B[39m\u001B[38;5;28;01mTrue\u001B[39;00m)\n",
      "\u001B[1;31mKeyboardInterrupt\u001B[0m: Interrupted by user"
     ]
    }
   ],
   "execution_count": 102
  },
  {
   "metadata": {
    "ExecuteTime": {
     "end_time": "2025-04-09T19:30:56.586467Z",
     "start_time": "2025-04-09T19:30:56.578163Z"
    }
   },
   "cell_type": "code",
   "source": "hit_card[0][0]",
   "id": "61b807592cfef20e",
   "outputs": [
    {
     "data": {
      "text/plain": [
       "'9'"
      ]
     },
     "execution_count": 106,
     "metadata": {},
     "output_type": "execute_result"
    }
   ],
   "execution_count": 106
  },
  {
   "metadata": {},
   "cell_type": "code",
   "outputs": [],
   "execution_count": null,
   "source": "",
   "id": "ed9f8180aa756b5a"
  }
 ],
 "metadata": {
  "kernelspec": {
   "display_name": "Python 3",
   "language": "python",
   "name": "python3"
  },
  "language_info": {
   "codemirror_mode": {
    "name": "ipython",
    "version": 2
   },
   "file_extension": ".py",
   "mimetype": "text/x-python",
   "name": "python",
   "nbconvert_exporter": "python",
   "pygments_lexer": "ipython2",
   "version": "2.7.6"
  }
 },
 "nbformat": 4,
 "nbformat_minor": 5
}
