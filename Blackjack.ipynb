{
 "cells": [
  {
   "cell_type": "code",
   "id": "initial_id",
   "metadata": {
    "collapsed": true,
    "ExecuteTime": {
     "end_time": "2025-04-08T21:40:37.939194Z",
     "start_time": "2025-04-08T21:40:37.923648Z"
    }
   },
   "source": "import random",
   "outputs": [],
   "execution_count": 6
  },
  {
   "metadata": {
    "ExecuteTime": {
     "end_time": "2025-04-08T21:50:55.729334Z",
     "start_time": "2025-04-08T21:50:55.705696Z"
    }
   },
   "cell_type": "code",
   "source": "deck = {'A of Spades':[1,11], 'A of Clubs':[1,11], 'A of Diamonds':[1,11], 'A of Hearts':[1,11],'2 of Spades':2, '2 of Clubs':2, '2 of Diamonds':2, '2 of Hearts':2,'3 of Spades':3, '3 of Clubs':3, '3 of Diamonds':3, '3 of Hearts':3, '4 of Spades':4, '4 of Clubs':4, '4 of Diamonds':4, '4 of Hearts':4, '5 of Spades':5, '5 of Clubs':5, '5 of Diamonds':5, '5 of Hearts':5,'6 of Spades':6, '6 of Clubs':6, '6 of Diamonds':6, '6 of Hearts':6, '7 of Spades':7, '7 of Clubs':7, '7 of Diamonds':7, '7 of Hearts':7, '8 of Spades':8, '8 of Clubs':8, '8 of Diamonds':8, '8 of Hearts':8,'9 of Spades':9, '9 of Clubs':9, '9 of Diamonds':9, '9 of Hearts':9, '10 of Spades':10, '10 of Clubs':10, '10 of Diamonds':10, '10 of Hearts':10,  'J of Spades':10, 'J of Clubs':10, 'J of Diamonds':10, 'J of Hearts':10,'Q of Spades':10, 'Q of Clubs':10, 'Q of Diamonds':10, 'Q of Hearts':10, 'K of Spades':10, 'K of Clubs':10, 'K of Diamonds':10, 'K of Hearts':10}",
   "id": "5ac66a8d43fd48c8",
   "outputs": [],
   "execution_count": 23
  },
  {
   "metadata": {
    "ExecuteTime": {
     "end_time": "2025-04-08T21:51:00.572018Z",
     "start_time": "2025-04-08T21:51:00.560437Z"
    }
   },
   "cell_type": "code",
   "source": "len(deck)",
   "id": "f9ef5083aa23b2cc",
   "outputs": [
    {
     "data": {
      "text/plain": [
       "52"
      ]
     },
     "execution_count": 24,
     "metadata": {},
     "output_type": "execute_result"
    }
   ],
   "execution_count": 24
  },
  {
   "metadata": {
    "ExecuteTime": {
     "end_time": "2025-04-08T21:51:07.651120Z",
     "start_time": "2025-04-08T21:51:07.637204Z"
    }
   },
   "cell_type": "code",
   "source": [
    "play = True\n",
    "while play == True:\n",
    "    new_deck = deck\n",
    "\n",
    "    #Deal two cards to dealer\n",
    "    dealer_hand = random.sample(list(deck.keys()),2)\n",
    "    for card in dealer_hand:\n",
    "        new_deck.pop(card)\n",
    "\n",
    "    #Deal two cards to user\n",
    "    user_hand = random.sample(list(deck.keys()),2)\n",
    "    for card in user_hand:\n",
    "        new_deck.pop(card)\n",
    "    print(len(new_deck))\n",
    "    break"
   ],
   "id": "c47c533547de710d",
   "outputs": [
    {
     "name": "stdout",
     "output_type": "stream",
     "text": [
      "48\n"
     ]
    }
   ],
   "execution_count": 25
  },
  {
   "metadata": {
    "ExecuteTime": {
     "end_time": "2025-04-08T21:51:08.763180Z",
     "start_time": "2025-04-08T21:51:08.747297Z"
    }
   },
   "cell_type": "code",
   "source": "len(deck)",
   "id": "3cf5459f3583e216",
   "outputs": [
    {
     "data": {
      "text/plain": [
       "48"
      ]
     },
     "execution_count": 26,
     "metadata": {},
     "output_type": "execute_result"
    }
   ],
   "execution_count": 26
  },
  {
   "metadata": {},
   "cell_type": "code",
   "outputs": [],
   "execution_count": null,
   "source": "",
   "id": "d6cb0a1cae62f3c0"
  }
 ],
 "metadata": {
  "kernelspec": {
   "display_name": "Python 3",
   "language": "python",
   "name": "python3"
  },
  "language_info": {
   "codemirror_mode": {
    "name": "ipython",
    "version": 2
   },
   "file_extension": ".py",
   "mimetype": "text/x-python",
   "name": "python",
   "nbconvert_exporter": "python",
   "pygments_lexer": "ipython2",
   "version": "2.7.6"
  }
 },
 "nbformat": 4,
 "nbformat_minor": 5
}
